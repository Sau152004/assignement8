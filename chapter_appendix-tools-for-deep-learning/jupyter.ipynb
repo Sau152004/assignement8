{
  "cells": [
    {
      "cell_type": "markdown",
      "metadata": {
        "id": "view-in-github",
        "colab_type": "text"
      },
      "source": [
        "<a href=\"https://colab.research.google.com/github/Sau152004/assignement8/blob/main/chapter_appendix-tools-for-deep-learning/jupyter.ipynb\" target=\"_parent\"><img src=\"https://colab.research.google.com/assets/colab-badge.svg\" alt=\"Open In Colab\"/></a>"
      ]
    },
    {
      "cell_type": "markdown",
      "id": "31d9a4c9",
      "metadata": {
        "origin_pos": 0,
        "id": "31d9a4c9"
      },
      "source": [
        "# Using Jupyter Notebooks\n",
        ":label:`sec_jupyter`\n",
        "\n",
        "\n",
        "This section describes how to edit and run the code\n",
        "in each section of this book\n",
        "using the Jupyter Notebook. Make sure you have\n",
        "installed Jupyter and downloaded the\n",
        "code as described in\n",
        ":ref:`chap_installation`.\n",
        "If you want to know more about Jupyter see the excellent tutorial in\n",
        "their [documentation](https://jupyter.readthedocs.io/en/latest/).\n",
        "\n",
        "\n",
        "## Editing and Running the Code Locally\n",
        "\n",
        "Suppose that the local path of the book's code is `xx/yy/d2l-en/`. Use the shell to change the directory to this path (`cd xx/yy/d2l-en`) and run the command `jupyter notebook`. If your browser does not do this automatically, open http://localhost:8888 and you will see the interface of Jupyter and all the folders containing the code of the book, as shown in :numref:`fig_jupyter00`.\n",
        "\n",
        "![The folders containing the code of this book.](https://github.com/d2l-ai/d2l-en-colab/blob/master/img/jupyter00.png?raw=1)\n",
        ":width:`600px`\n",
        ":label:`fig_jupyter00`\n",
        "\n",
        "\n",
        "You can access the notebook files by clicking on the folder displayed on the webpage.\n",
        "They usually have the suffix \".ipynb\".\n",
        "For the sake of brevity, we create a temporary \"test.ipynb\" file.\n",
        "The content displayed after you click it is\n",
        "shown in :numref:`fig_jupyter01`.\n",
        "This notebook includes a markdown cell and a code cell. The content in the markdown cell includes \"This Is a Title\" and \"This is text.\".\n",
        "The code cell contains two lines of Python code.\n",
        "\n",
        "![Markdown and code cells in the \"text.ipynb\" file.](https://github.com/d2l-ai/d2l-en-colab/blob/master/img/jupyter01.png?raw=1)\n",
        ":width:`600px`\n",
        ":label:`fig_jupyter01`\n",
        "\n",
        "\n",
        "Double click on the markdown cell to enter edit mode.\n",
        "Add a new text string \"Hello world.\" at the end of the cell, as shown in :numref:`fig_jupyter02`.\n",
        "\n",
        "![Edit the markdown cell.](https://github.com/d2l-ai/d2l-en-colab/blob/master/img/jupyter02.png?raw=1)\n",
        ":width:`600px`\n",
        ":label:`fig_jupyter02`\n",
        "\n",
        "\n",
        "As demonstrated in :numref:`fig_jupyter03`,\n",
        "click \"Cell\" $\\rightarrow$ \"Run Cells\" in the menu bar to run the edited cell.\n",
        "\n",
        "![Run the cell.](https://github.com/d2l-ai/d2l-en-colab/blob/master/img/jupyter03.png?raw=1)\n",
        ":width:`600px`\n",
        ":label:`fig_jupyter03`\n",
        "\n",
        "After running, the markdown cell is shown in :numref:`fig_jupyter04`.\n",
        "\n",
        "![The markdown cell after running.](https://github.com/d2l-ai/d2l-en-colab/blob/master/img/jupyter04.png?raw=1)\n",
        ":width:`600px`\n",
        ":label:`fig_jupyter04`\n",
        "\n",
        "\n",
        "Next, click on the code cell. Multiply the elements by 2 after the last line of code, as shown in :numref:`fig_jupyter05`.\n",
        "\n",
        "![Edit the code cell.](https://github.com/d2l-ai/d2l-en-colab/blob/master/img/jupyter05.png?raw=1)\n",
        ":width:`600px`\n",
        ":label:`fig_jupyter05`\n",
        "\n",
        "\n",
        "You can also run the cell with a shortcut (\"Ctrl + Enter\" by default) and obtain the output result from :numref:`fig_jupyter06`.\n",
        "\n",
        "![Run the code cell to obtain the output.](https://github.com/d2l-ai/d2l-en-colab/blob/master/img/jupyter06.png?raw=1)\n",
        ":width:`600px`\n",
        ":label:`fig_jupyter06`\n",
        "\n",
        "\n",
        "When a notebook contains more cells, we can click \"Kernel\" $\\rightarrow$ \"Restart & Run All\" in the menu bar to run all the cells in the entire notebook. By clicking \"Help\" $\\rightarrow$ \"Edit Keyboard Shortcuts\" in the menu bar, you can edit the shortcuts according to your preferences.\n",
        "\n",
        "## Advanced Options\n",
        "\n",
        "Beyond local editing two things are quite important: editing the notebooks in the markdown format and running Jupyter remotely.\n",
        "The latter matters when we want to run the code on a faster server.\n",
        "The former matters since Jupyter's native ipynb format stores a lot of auxiliary data that is\n",
        "irrelevant to the content,\n",
        "mostly related to how and where the code is run.\n",
        "This is confusing for Git, making\n",
        "reviewing contributions very difficult.\n",
        "Fortunately there is an alternative---native editing in the markdown format.\n",
        "\n",
        "### Markdown Files in Jupyter\n",
        "\n",
        "If you wish to contribute to the content of this book, you need to modify the\n",
        "source file (md file, not ipynb file) on GitHub.\n",
        "Using the notedown plugin we\n",
        "can modify notebooks in the md format directly in Jupyter.\n",
        "\n",
        "\n",
        "First, install the notedown plugin, run the Jupyter Notebook, and load the plugin:\n",
        "\n",
        "```\n",
        "pip install d2l-notedown  # You may need to uninstall the original notedown.\n",
        "jupyter notebook --NotebookApp.contents_manager_class='notedown.NotedownContentsManager'\n",
        "```\n",
        "\n",
        "You may also turn on the notedown plugin by default whenever you run the Jupyter Notebook.\n",
        "First, generate a Jupyter Notebook configuration file (if it has already been generated, you can skip this step).\n",
        "\n",
        "```\n",
        "jupyter notebook --generate-config\n",
        "```\n",
        "\n",
        "Then, add the following line to the end of the Jupyter Notebook configuration file (for Linux or macOS, usually in the path `~/.jupyter/jupyter_notebook_config.py`):\n",
        "\n",
        "```\n",
        "c.NotebookApp.contents_manager_class = 'notedown.NotedownContentsManager'\n",
        "```\n",
        "\n",
        "After that, you only need to run the `jupyter notebook` command to turn on the notedown plugin by default.\n",
        "\n",
        "### Running Jupyter Notebooks on a Remote Server\n",
        "\n",
        "Sometimes, you may want to run Jupyter notebooks on a remote server and access it through a browser on your local computer. If Linux or macOS is installed on your local machine (Windows can also support this function through third-party software such as PuTTY), you can use port forwarding:\n",
        "\n",
        "```\n",
        "ssh myserver -L 8888:localhost:8888\n",
        "```\n",
        "\n",
        "The above string `myserver` is the address of the remote server.\n",
        "Then we can use http://localhost:8888 to access the remote server `myserver` that runs Jupyter notebooks. We will detail on how to run Jupyter notebooks on AWS instances\n",
        "later in this appendix.\n",
        "\n",
        "### Timing\n",
        "\n",
        "We can use the `ExecuteTime` plugin to time the execution of each code cell in Jupyter notebooks.\n",
        "Use the following commands to install the plugin:\n",
        "\n",
        "```\n",
        "pip install jupyter_contrib_nbextensions\n",
        "jupyter contrib nbextension install --user\n",
        "jupyter nbextension enable execute_time/ExecuteTime\n",
        "```\n",
        "\n",
        "## Summary\n",
        "\n",
        "* Using the Jupyter Notebook tool, we can edit, run, and contribute to each section of the book.\n",
        "* We can run Jupyter notebooks on remote servers using port forwarding.\n",
        "\n",
        "\n",
        "## Exercises\n",
        "\n",
        "1. Edit and run the code in this book with the Jupyter Notebook on your local machine.\n",
        "1. Edit and run the code in this book with the Jupyter Notebook *remotely* via port forwarding.\n",
        "1. Compare the running time of the operations $\\mathbf{A}^\\top \\mathbf{B}$ and $\\mathbf{A} \\mathbf{B}$ for two square matrices in $\\mathbb{R}^{1024 \\times 1024}$. Which one is faster?\n",
        "\n",
        "\n",
        "[Discussions](https://discuss.d2l.ai/t/421)\n"
      ]
    },
    {
      "cell_type": "code",
      "source": [
        "import numpy as np\n",
        "import pandas as pd\n",
        "from sklearn.model_selection import train_test_split\n",
        "from sklearn.metrics import accuracy_score\n",
        "import matplotlib.pyplot as plt\n",
        "\n",
        "# Machine Learning Models\n",
        "from sklearn.linear_model import LogisticRegression\n",
        "from sklearn.ensemble import RandomForestClassifier\n",
        "from sklearn.svm import SVC\n",
        "from sklearn.neighbors import KNeighborsClassifier\n",
        "from xgboost import XGBClassifier"
      ],
      "metadata": {
        "id": "OCrErhV1j28T"
      },
      "id": "OCrErhV1j28T",
      "execution_count": 1,
      "outputs": []
    },
    {
      "cell_type": "code",
      "source": [
        "# Simulate a plant disease dataset (replace with real data)\n",
        "np.random.seed(42)\n",
        "num_samples = 1000\n",
        "\n",
        "# Features: leaf_area, leaf_color, spots_present, spots_color, stem_condition, growth_rate\n",
        "# Target: disease_present (0 = healthy, 1 = diseased)\n",
        "data = {\n",
        "    'leaf_area': np.random.normal(15, 5, num_samples),\n",
        "    'leaf_color': np.random.randint(0, 3, num_samples),  # 0: green, 1: yellow, 2: brown\n",
        "    'spots_present': np.random.randint(0, 2, num_samples),  # 0: no, 1: yes\n",
        "    'spots_color': np.random.randint(0, 4, num_samples),  # 0: none, 1: white, 2: black, 3: brown\n",
        "    'stem_condition': np.random.randint(0, 3, num_samples),  # 0: healthy, 1: weak, 2: damaged\n",
        "    'growth_rate': np.random.normal(0.5, 0.2, num_samples),\n",
        "    'disease_present': np.random.randint(0, 2, num_samples)  # Target variable\n",
        "}\n",
        "\n",
        "plant_data = pd.DataFrame(data)\n",
        "\n",
        "# Display first 5 rows\n",
        "print(\"First 5 rows of the dataset:\")\n",
        "print(plant_data.head())\n",
        "\n",
        "# Check target distribution\n",
        "print(\"\\nDistribution of Target (Disease Present):\")\n",
        "print(plant_data['disease_present'].value_counts())"
      ],
      "metadata": {
        "id": "d_NsWKdykA7k",
        "outputId": "d07c587f-7315-446d-a49a-2a6da9b62141",
        "colab": {
          "base_uri": "https://localhost:8080/"
        }
      },
      "id": "d_NsWKdykA7k",
      "execution_count": 2,
      "outputs": [
        {
          "output_type": "stream",
          "name": "stdout",
          "text": [
            "First 5 rows of the dataset:\n",
            "   leaf_area  leaf_color  spots_present  spots_color  stem_condition  \\\n",
            "0  17.483571           2              0            2               2   \n",
            "1  14.308678           0              1            2               1   \n",
            "2  18.238443           2              1            3               2   \n",
            "3  22.615149           0              1            2               1   \n",
            "4  13.829233           2              0            0               0   \n",
            "\n",
            "   growth_rate  disease_present  \n",
            "0     0.528418                1  \n",
            "1     0.614940                0  \n",
            "2     0.648431                0  \n",
            "3     0.699763                0  \n",
            "4     0.774423                1  \n",
            "\n",
            "Distribution of Target (Disease Present):\n",
            "disease_present\n",
            "1    521\n",
            "0    479\n",
            "Name: count, dtype: int64\n"
          ]
        }
      ]
    },
    {
      "cell_type": "code",
      "source": [
        "X = plant_data.drop(columns='disease_present', axis=1)  # Features\n",
        "Y = plant_data['disease_present']  # Target\n",
        "\n",
        "X_train, X_test, Y_train, Y_test = train_test_split(X, Y, test_size=0.2, stratify=Y, random_state=2)\n",
        "\n",
        "print(\"\\nData Shapes:\")\n",
        "print(\"Full dataset:\", X.shape)\n",
        "print(\"Training set:\", X_train.shape)\n",
        "print(\"Test set:\", X_test.shape)\n"
      ],
      "metadata": {
        "id": "MNFaujH1kHPo",
        "outputId": "fa699a76-4f63-4160-afa2-f61fd67d5fbf",
        "colab": {
          "base_uri": "https://localhost:8080/"
        }
      },
      "id": "MNFaujH1kHPo",
      "execution_count": 3,
      "outputs": [
        {
          "output_type": "stream",
          "name": "stdout",
          "text": [
            "\n",
            "Data Shapes:\n",
            "Full dataset: (1000, 6)\n",
            "Training set: (800, 6)\n",
            "Test set: (200, 6)\n"
          ]
        }
      ]
    },
    {
      "cell_type": "code",
      "source": [
        "# Initialize models\n",
        "models = {\n",
        "    \"Logistic Regression\": LogisticRegression(max_iter=1000),\n",
        "    \"Random Forest\": RandomForestClassifier(n_estimators=100, random_state=2),\n",
        "    \"Support Vector Machine\": SVC(kernel='linear', probability=True, random_state=2),\n",
        "    \"K-Nearest Neighbors\": KNeighborsClassifier(n_neighbors=5),\n",
        "    \"XGBoost\": XGBClassifier(random_state=2)\n",
        "}\n",
        "\n",
        "# Dictionary to store accuracy\n",
        "accuracy_scores = {}\n",
        "\n",
        "# Train and evaluate each model\n",
        "for name, model in models.items():\n",
        "    model.fit(X_train, Y_train)\n",
        "\n",
        "    # Training accuracy\n",
        "    train_pred = model.predict(X_train)\n",
        "    train_acc = accuracy_score(train_pred, Y_train)\n",
        "\n",
        "    # Test accuracy\n",
        "    test_pred = model.predict(X_test)\n",
        "    test_acc = accuracy_score(test_pred, Y_test)\n",
        "\n",
        "    accuracy_scores[name] = {\n",
        "        'Train Accuracy': train_acc,\n",
        "        'Test Accuracy': test_acc\n",
        "    }\n",
        "\n",
        "    print(f\"\\n{name}:\")\n",
        "    print(f\"Training Accuracy: {train_acc:.4f}\")\n",
        "    print(f\"Test Accuracy: {test_acc:.4f}\")\n",
        ""
      ],
      "metadata": {
        "id": "vViopy8qkLns",
        "outputId": "5634ed49-614a-491d-a389-3d08e2305d6f",
        "colab": {
          "base_uri": "https://localhost:8080/"
        }
      },
      "id": "vViopy8qkLns",
      "execution_count": 4,
      "outputs": [
        {
          "output_type": "stream",
          "name": "stdout",
          "text": [
            "\n",
            "Logistic Regression:\n",
            "Training Accuracy: 0.5212\n",
            "Test Accuracy: 0.5500\n",
            "\n",
            "Random Forest:\n",
            "Training Accuracy: 1.0000\n",
            "Test Accuracy: 0.5150\n",
            "\n",
            "Support Vector Machine:\n",
            "Training Accuracy: 0.5212\n",
            "Test Accuracy: 0.5200\n",
            "\n",
            "K-Nearest Neighbors:\n",
            "Training Accuracy: 0.6850\n",
            "Test Accuracy: 0.4850\n",
            "\n",
            "XGBoost:\n",
            "Training Accuracy: 1.0000\n",
            "Test Accuracy: 0.4650\n"
          ]
        }
      ]
    },
    {
      "cell_type": "code",
      "source": [
        "# Convert accuracy scores to DataFrame\n",
        "accuracy_df = pd.DataFrame(accuracy_scores).T\n",
        "\n",
        "# Plot comparison\n",
        "plt.figure(figsize=(10, 6))\n",
        "accuracy_df.plot(kind='bar', y=['Train Accuracy', 'Test Accuracy'])\n",
        "plt.title('Model Comparison: Training vs Test Accuracy')\n",
        "plt.ylabel('Accuracy')\n",
        "plt.xticks(rotation=45)\n",
        "plt.ylim(0, 1.1)\n",
        "plt.legend(loc='lower right')\n",
        "plt.tight_layout()\n",
        "plt.show()\n",
        "\n",
        "# Find the best model\n",
        "best_model_name = accuracy_df['Test Accuracy'].idxmax()\n",
        "best_model = models[best_model_name]\n",
        "print(f\"\\nBest Model: {best_model_name} (Test Accuracy: {accuracy_df.loc[best_model_name, 'Test Accuracy']:.4f})\")\n"
      ],
      "metadata": {
        "id": "9Sq-OuDIkRhX",
        "outputId": "57d65478-2cd9-44dc-d54e-32ea985b7049",
        "colab": {
          "base_uri": "https://localhost:8080/",
          "height": 539
        }
      },
      "id": "9Sq-OuDIkRhX",
      "execution_count": 5,
      "outputs": [
        {
          "output_type": "display_data",
          "data": {
            "text/plain": [
              "<Figure size 1000x600 with 0 Axes>"
            ]
          },
          "metadata": {}
        },
        {
          "output_type": "display_data",
          "data": {
            "text/plain": [
              "<Figure size 640x480 with 1 Axes>"
            ],
            "image/png": "[encoded data removed]"
          },
          "metadata": {}
        },
        {
          "output_type": "stream",
          "name": "stdout",
          "text": [
            "\n",
            "Best Model: Logistic Regression (Test Accuracy: 0.5500)\n"
          ]
        }
      ]
    },
    {
      "cell_type": "code",
      "source": [
        "# Example input (replace with real plant features)\n",
        "input_data = (14.5, 1, 1, 2, 1, 0.4)  # leaf_area, leaf_color, spots_present, spots_color, stem_condition, growth_rate\n",
        "\n",
        "# Convert to numpy array and reshape\n",
        "input_array = np.asarray(input_data).reshape(1, -1)\n",
        "\n",
        "# Predict\n",
        "prediction = best_model.predict(input_array)\n",
        "\n",
        "print(\"\\nPrediction for Input Data:\", input_data)\n",
        "if prediction[0] == 0:\n",
        "    print(\"Prediction: Healthy Plant\")\n",
        "else:\n",
        "    print(\"Prediction: Diseased Plant\")\n",
        "\n",
        "# Show confidence (if available)\n",
        "if hasattr(best_model, \"predict_proba\"):\n",
        "    proba = best_model.predict_proba(input_array)\n",
        "    print(f\"Confidence: Healthy {proba[0][0]:.2f}, Diseased {proba[0][1]:.2f}\")"
      ],
      "metadata": {
        "id": "y8EkjR3TkW5J",
        "outputId": "1124d406-f547-4c73-c573-a33051c9b8ed",
        "colab": {
          "base_uri": "https://localhost:8080/"
        }
      },
      "id": "y8EkjR3TkW5J",
      "execution_count": 6,
      "outputs": [
        {
          "output_type": "stream",
          "name": "stdout",
          "text": [
            "\n",
            "Prediction for Input Data: (14.5, 1, 1, 2, 1, 0.4)\n",
            "Prediction: Diseased Plant\n",
            "Confidence: Healthy 0.47, Diseased 0.53\n"
          ]
        },
        {
          "output_type": "stream",
          "name": "stderr",
          "text": [
            "/usr/local/lib/python3.11/dist-packages/sklearn/utils/validation.py:2739: UserWarning: X does not have valid feature names, but LogisticRegression was fitted with feature names\n",
            "  warnings.warn(\n",
            "/usr/local/lib/python3.11/dist-packages/sklearn/utils/validation.py:2739: UserWarning: X does not have valid feature names, but LogisticRegression was fitted with feature names\n",
            "  warnings.warn(\n"
          ]
        }
      ]
    }
  ],
  "metadata": {
    "kernelspec": {
      "display_name": "Python 3",
      "name": "python3"
    },
    "language_info": {
      "name": "python"
    },
    "required_libs": [],
    "colab": {
      "provenance": [],
      "include_colab_link": true
    }
  },
  "nbformat": 4,
  "nbformat_minor": 5
}